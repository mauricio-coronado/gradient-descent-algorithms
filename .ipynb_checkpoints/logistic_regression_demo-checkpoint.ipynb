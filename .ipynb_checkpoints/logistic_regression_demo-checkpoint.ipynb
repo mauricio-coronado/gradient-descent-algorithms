{
 "cells": [
  {
   "cell_type": "markdown",
   "id": "4d7124b5",
   "metadata": {},
   "source": [
    "## 1. Optimization Problem \n",
    "What is the problem addressed by the optimization in the paper?"
   ]
  },
  {
   "cell_type": "markdown",
   "id": "4c1d7ade",
   "metadata": {},
   "source": [
    "The [paper](https://arxiv.org/pdf/1509.06459.pdf) I chose addresses the problem of optimization for large datasets using Stochastic Gradient Descent. Among the experiments made by the authors I focused on the Regularized Logistic Regression (Ridge penalty) on the MNIST dataset (Section 3.2).\n",
    "\n",
    "Just as a reminder, let's recall that this problem takes the form:\n",
    "\n",
    "$$f(\\boldsymbol{u},u_0) = \\sum_{i:y_i=1} (-\\boldsymbol{x_i^T}\\boldsymbol{u}-u_0) + \\sum_{i=1}^n \\text{log}(1+\\text{exp}(\\boldsymbol{x_i^T}\\boldsymbol{u}+u_0)) + \\lambda \\left\\lVert \\boldsymbol{u} \\choose u_0 \\right\\lVert^2$$"
   ]
  },
  {
   "cell_type": "markdown",
   "id": "dc351be7",
   "metadata": {},
   "source": [
    "## 2. Optimization Method\n",
    "What optimization method is proposed by the authors?"
   ]
  },
  {
   "cell_type": "markdown",
   "id": "86e078c8",
   "metadata": {},
   "source": [
    "To solve this problem the authors employ two algorithms: (explicit) Stochastic Gradient Descent (SGD, [Sakrison 1965](https://www2.eecs.berkeley.edu/Pubs/TechRpts/1964/ERL-m-110.pdf)) and Average Implicit Stochastic Gradient Descent (AI-SGD, [Toulis, Tran and Airoldi 2015](https://arxiv.org/pdf/1505.02417v1.pdf)). Due to time constraints, the scope of this project was restricted to the SGD method only."
   ]
  },
  {
   "cell_type": "markdown",
   "id": "5bbdcd7d",
   "metadata": {},
   "source": [
    "## 3. Dataset\n",
    "What dataset is used?"
   ]
  },
  {
   "cell_type": "markdown",
   "id": "cc97b2f7",
   "metadata": {},
   "source": [
    "The dataset used is the MNIST dataset (Le Cun, Bottou, Bengio, and Haffner 1998) which consists of images of handwritten digits. This is a dense dataset with 784 covariates (28x28 pixels). It contains 70,000 image features from which 60,000 were used to train the data and 10,000 to test it. \n",
    "\n",
    "Unlike the exercise in PS5 where we focused on two digits at a time, here the task is to classify digit 9 against all others, so the complete dataset needs to be used."
   ]
  },
  {
   "cell_type": "markdown",
   "id": "bc68b2e3",
   "metadata": {},
   "source": [
    "## 4. Implementation\n",
    "Obtain or create this data set or else a simplified or miniaturized version of the data set. Implement the author's optimization algorithm or, if it is very complicated, a simplified version of the algorithm. Carry out your own experiment of the author's algorithm on the author's data set and report on the result."
   ]
  },
  {
   "cell_type": "markdown",
   "id": "559dd5bc",
   "metadata": {},
   "source": [
    "To implement the author's optimization algorithm as well as alternative algorithms to solve the problem I created a module named of `gd_algorithms.py`. This module contains the following functions:\n",
    "\n",
    "###### Logistic Regression Functions\n",
    "- `regularized_logistic_objective`: computes the objective function of the Regularized Logistic Regression problem \n",
    "- `regularized_logistic_gradient_batch`: computes the gradient of the objective function of the Regularized Logistic Regression problem. It has the feature of being able to restrict the dataset to only a specified set of datapoints (batch) which is needed for stochastic gradient descent. When the batch size is equal to the number of observations on the dataset, this function returns the gradient of the function for the complete dataset which is needed for the rest of gradient descent algorithms.\n",
    "\n",
    "###### Gradient Descent Algorithms\n",
    "- `gradient_descent_algorithm`: basic gradient decent algorithm. \n",
    "- `accelerated_gradient_algorithm`: improved gradient descent algorithm for convex and differentiable functions\n",
    "- `conjugate_gradient_algorithm`: Fletcher & Reeves method (from Nocedal & Right) for nonlinear functions. To compute the step sizr aditional functions were created.\n",
    "- `stochastic_gradient_algorithm`: Stochastic Gradient Descent algorithm. The stepsize can be set to constant or to choose one of the two line_search methods available. The batch size is also a parameter of the function, which allows to run either the classic Stochastic Gradient Descent algorithm (batch size equal to one) or a Mini-batch Gradient Descent.\n",
    "\n",
    "###### Additional Functions\n",
    "- `backtrack_line_search`: basic inexact line search method to find a suitable stepsize.\n",
    "- `armijo_line_search`: improved inexact line search method to find a suitable stepsize."
   ]
  },
  {
   "cell_type": "markdown",
   "id": "a9f61f69",
   "metadata": {},
   "source": [
    "## 5. Results"
   ]
  },
  {
   "cell_type": "markdown",
   "id": "5171ea0d",
   "metadata": {},
   "source": [
    "This section is divided into two subsections. The first one contains the time of completion for the task specified on the paper for only one configuration of each algorithm. The second focuses on testing only one digit versus another (like in PS5) but contains the rate of convergence of the algorithms in addition to the time of completion, it also shows these details for a more of algorithms than subsection one."
   ]
  },
  {
   "cell_type": "code",
   "execution_count": 11,
   "id": "2524558a",
   "metadata": {},
   "outputs": [
    {
     "name": "stdout",
     "output_type": "stream",
     "text": [
      "The autoreload extension is already loaded. To reload it, use:\n",
      "  %reload_ext autoreload\n"
     ]
    }
   ],
   "source": [
    "import numpy as np\n",
    "import pandas as pd\n",
    "from keras.datasets import mnist\n",
    "from numpy.linalg import norm\n",
    "from numpy import linalg as LA\n",
    "from matplotlib import pyplot as plt\n",
    "\n",
    "import gd_algorithms as gda\n",
    "%load_ext autoreload\n",
    "%autoreload 2"
   ]
  },
  {
   "cell_type": "markdown",
   "id": "97e96d76",
   "metadata": {},
   "source": [
    "### 5.1. Digit 9 vs. The others"
   ]
  },
  {
   "cell_type": "code",
   "execution_count": 21,
   "id": "4b41f393",
   "metadata": {},
   "outputs": [],
   "source": [
    "# Load data\n",
    "(train_X, train_y), (test_X, test_y) = mnist.load_data()\n",
    "\n",
    "# Reshape data into vector form\n",
    "train_X_reshaped = train_X.reshape(train_X.shape[0], train_X.shape[1]*train_X.shape[2])\n",
    "test_X_reshaped = test_X.reshape(test_X.shape[0], test_X.shape[1]*test_X.shape[2])\n",
    "\n",
    "# Scalling the data\n",
    "trainX = train_X_reshaped\n",
    "s = max(np.linalg.norm(trainX, axis=1))\n",
    "trainX = trainX/s\n",
    "\n",
    "# The Experiment of the paper classified 9 versus all other numbers. Create synthetic vector\n",
    "digit = 9\n",
    "trainY = np.array([1 if y==digit else 0 for y in train_y])\n",
    "\n",
    "\n",
    "# Test sets\n",
    "testX = test_X_reshaped\n",
    "s = max(np.linalg.norm(testX, axis=1))\n",
    "testX = testX/s\n",
    "\n",
    "digit = 9\n",
    "testY = np.array([1 if y==digit else 0 for y in test_y])"
   ]
  },
  {
   "cell_type": "markdown",
   "id": "e3704de0",
   "metadata": {},
   "source": [
    "### First Round Global Parameters"
   ]
  },
  {
   "cell_type": "code",
   "execution_count": 13,
   "id": "c1d5586a",
   "metadata": {},
   "outputs": [],
   "source": [
    "# Regularization parameter as in the paper\n",
    "lmbd = 10e-3\n",
    "# Termination test as in PS5\n",
    "tol = 10e-3\n",
    "# Maximum Iterations too large to reach\n",
    "maxit = 100000"
   ]
  },
  {
   "cell_type": "markdown",
   "id": "5044da3e",
   "metadata": {},
   "source": [
    "### Accelerated Gradient Descent"
   ]
  },
  {
   "cell_type": "markdown",
   "id": "410ece49",
   "metadata": {},
   "source": [
    "The parameters for l and L are calculated inside the `logistic_regression_optimization`, given that we found bounds for these values in this specific problem in PS5 Q3."
   ]
  },
  {
   "cell_type": "code",
   "execution_count": 7,
   "id": "2ff5a984",
   "metadata": {},
   "outputs": [
    {
     "name": "stdout",
     "output_type": "stream",
     "text": [
      "Wall time: 32min 37s\n"
     ]
    }
   ],
   "source": [
    "%%time\n",
    "u_agd, u0_agd, iterations_agd, hist = gda.logistic_regression_optimization(trainX = trainX, \n",
    "                                                                     trainY = trainY, \n",
    "                                                                     lmbd = lmbd, \n",
    "                                                                     tol = tol, \n",
    "                                                                     maxit = maxit,\n",
    "                                                                     gd_algorithm = gda.accelerated_gradient_algorithm)"
   ]
  },
  {
   "cell_type": "code",
   "execution_count": 8,
   "id": "56cf93e9",
   "metadata": {
    "scrolled": true
   },
   "outputs": [
    {
     "data": {
      "text/plain": [
       "8133"
      ]
     },
     "execution_count": 8,
     "metadata": {},
     "output_type": "execute_result"
    }
   ],
   "source": [
    "iterations_agd"
   ]
  },
  {
   "cell_type": "code",
   "execution_count": 11,
   "id": "4d8ae872",
   "metadata": {
    "scrolled": true
   },
   "outputs": [
    {
     "data": {
      "text/plain": [
       "0.03269999999999995"
      ]
     },
     "execution_count": 11,
     "metadata": {},
     "output_type": "execute_result"
    }
   ],
   "source": [
    "percent_wrong, predictions = gda.score_logistic(testX, testY, \n",
    "                                                u_agd, u0_agd, \n",
    "                                                digit1=0, digit2=1)\n",
    "percent_wrong"
   ]
  },
  {
   "cell_type": "markdown",
   "id": "3bceeaa0",
   "metadata": {},
   "source": [
    "### Conjugate Gradient Descent"
   ]
  },
  {
   "cell_type": "code",
   "execution_count": 19,
   "id": "7812408e",
   "metadata": {},
   "outputs": [
    {
     "name": "stdout",
     "output_type": "stream",
     "text": [
      "Wall time: 28min 2s\n"
     ]
    }
   ],
   "source": [
    "%%time\n",
    "u_cgd, u0_cgd, iterations_cgd, hist = gda.logistic_regression_optimization(trainX = trainX, \n",
    "                                                                     trainY = trainY, \n",
    "                                                                     lmbd = lmbd, \n",
    "                                                                     tol = tol, \n",
    "                                                                     maxit = maxit,\n",
    "                                                                     gd_algorithm = gda.conjugate_gradient_algorithm,\n",
    "                                                                     line_search = gda.backtrack_line_search)"
   ]
  },
  {
   "cell_type": "code",
   "execution_count": 25,
   "id": "91471635",
   "metadata": {
    "scrolled": true
   },
   "outputs": [
    {
     "data": {
      "text/plain": [
       "1419"
      ]
     },
     "execution_count": 25,
     "metadata": {},
     "output_type": "execute_result"
    }
   ],
   "source": [
    "iterations_cgd"
   ]
  },
  {
   "cell_type": "code",
   "execution_count": 22,
   "id": "925fd7a7",
   "metadata": {
    "scrolled": true
   },
   "outputs": [
    {
     "ename": "NameError",
     "evalue": "name 'u_agd' is not defined",
     "output_type": "error",
     "traceback": [
      "\u001b[1;31m---------------------------------------------------------------------------\u001b[0m",
      "\u001b[1;31mNameError\u001b[0m                                 Traceback (most recent call last)",
      "\u001b[1;32m~\\AppData\\Local\\Temp/ipykernel_13060/2589979259.py\u001b[0m in \u001b[0;36m<module>\u001b[1;34m\u001b[0m\n\u001b[0;32m      1\u001b[0m percent_wrong, predictions = gda.score_logistic(testX, testY, \n\u001b[1;32m----> 2\u001b[1;33m                                                 \u001b[0mu_agd\u001b[0m\u001b[1;33m,\u001b[0m \u001b[0mu0_agd\u001b[0m\u001b[1;33m,\u001b[0m\u001b[1;33m\u001b[0m\u001b[1;33m\u001b[0m\u001b[0m\n\u001b[0m\u001b[0;32m      3\u001b[0m                                                 digit1=0, digit2=1)\n\u001b[0;32m      4\u001b[0m \u001b[0mpercent_wrong\u001b[0m\u001b[1;33m\u001b[0m\u001b[1;33m\u001b[0m\u001b[0m\n",
      "\u001b[1;31mNameError\u001b[0m: name 'u_agd' is not defined"
     ]
    }
   ],
   "source": [
    "percent_wrong, predictions = gda.score_logistic(testX, testY, \n",
    "                                                u_agd, u0_agd, \n",
    "                                                digit1=0, digit2=1)\n",
    "percent_wrong"
   ]
  },
  {
   "cell_type": "markdown",
   "id": "264da4fa",
   "metadata": {},
   "source": [
    "### Gradient Descent"
   ]
  },
  {
   "cell_type": "markdown",
   "id": "c8a58e78",
   "metadata": {},
   "source": [
    "Wall time: unknown. I stopped the process after more than 6 hours without reaching convergence."
   ]
  },
  {
   "cell_type": "markdown",
   "id": "c778c99d",
   "metadata": {},
   "source": [
    "### Stochastic Gradient Descent"
   ]
  },
  {
   "cell_type": "markdown",
   "id": "6736ae7e",
   "metadata": {},
   "source": [
    "It was also taking a lot of time when I first run it, I stopped it after 30 minutes to investigate why since I knew this was supposed to be the fastest. I decided to print the norm of the gradient between iterations and by doing this I found that it converged very fast but it to a point where the norm was significantly greater than the tolerance set. Probably the method to choose eta_k is not enabling the algorithm to converge closer to the optimizer"
   ]
  },
  {
   "cell_type": "code",
   "execution_count": 14,
   "id": "078cca90",
   "metadata": {},
   "outputs": [
    {
     "name": "stdout",
     "output_type": "stream",
     "text": [
      "The algorithm reached the maximum number of iterations: 5\n",
      "Wall time: 5min 1s\n"
     ]
    }
   ],
   "source": [
    "%%time\n",
    "u_sgd, u0_sgd, iterations_sgd, hist = gda.logistic_regression_optimization(trainX = trainX, \n",
    "                                                                     trainY = trainY, \n",
    "                                                                     lmbd = lmbd, \n",
    "                                                                     tol = tol, \n",
    "                                                                     maxit = 5,\n",
    "                                                                     gd_algorithm = gda.stochastic_gradient_algorithm,\n",
    "                                                                     batch_size = 1,\n",
    "                                                                     stepsize = \"line_search\",\n",
    "                                                                     line_search= gda.armijo_line_search)"
   ]
  },
  {
   "cell_type": "markdown",
   "id": "7bb1beea",
   "metadata": {},
   "source": [
    "### Global Parameters Second Round "
   ]
  },
  {
   "cell_type": "markdown",
   "id": "9e618a50",
   "metadata": {},
   "source": [
    "Changed tol to 0.15 to reach convergence of the Stochastic Gradient Descent algorithm and compare with the rest"
   ]
  },
  {
   "cell_type": "code",
   "execution_count": 15,
   "id": "341b3e6f",
   "metadata": {},
   "outputs": [],
   "source": [
    "# Regularization parameter as in the paper\n",
    "lmbd = 10e-3\n",
    "# Termination test as in PS5\n",
    "tol = 0.15\n",
    "# Maximum Iterations too large to reach\n",
    "maxit = 100000"
   ]
  },
  {
   "cell_type": "markdown",
   "id": "7b1821b6",
   "metadata": {},
   "source": [
    "### Stochastic Gradient Descent"
   ]
  },
  {
   "cell_type": "code",
   "execution_count": 16,
   "id": "79c427f4",
   "metadata": {},
   "outputs": [
    {
     "name": "stdout",
     "output_type": "stream",
     "text": [
      "Wall time: 59.8 s\n"
     ]
    }
   ],
   "source": [
    "%%time\n",
    "u_sgd, u0_sgd, iterations_sgd, hist = gda.logistic_regression_optimization(trainX = trainX, \n",
    "                                                                     trainY = trainY, \n",
    "                                                                     lmbd = lmbd, \n",
    "                                                                     tol = tol, \n",
    "                                                                     maxit = 5,\n",
    "                                                                     gd_algorithm = gda.stochastic_gradient_algorithm,\n",
    "                                                                     batch_size = 1,\n",
    "                                                                     stepsize = \"line_search\",\n",
    "                                                                     line_search=gda.armijo_line_search)"
   ]
  },
  {
   "cell_type": "code",
   "execution_count": 17,
   "id": "0064746e",
   "metadata": {
    "scrolled": true
   },
   "outputs": [
    {
     "data": {
      "text/plain": [
       "1"
      ]
     },
     "execution_count": 17,
     "metadata": {},
     "output_type": "execute_result"
    }
   ],
   "source": [
    "iterations_sgd"
   ]
  },
  {
   "cell_type": "code",
   "execution_count": 24,
   "id": "744bb45a",
   "metadata": {
    "scrolled": true
   },
   "outputs": [
    {
     "data": {
      "text/plain": [
       "0.10089999999999999"
      ]
     },
     "execution_count": 24,
     "metadata": {},
     "output_type": "execute_result"
    }
   ],
   "source": [
    "percent_wrong, predictions = gda.score_logistic(testX, testY, \n",
    "                                                u_sgd, u0_sgd, \n",
    "                                                digit1=0, digit2=1)\n",
    "percent_wrong"
   ]
  },
  {
   "cell_type": "markdown",
   "id": "5429e24d",
   "metadata": {},
   "source": [
    "Although it took more time for me (4 seconds versus 70), the percent_wrong is aligned with one of the results of the paper. On Figure 1 (Page 12), we can see in the bottom right corner that after one iteration, the percent wrong for SGD is near 10%."
   ]
  },
  {
   "cell_type": "markdown",
   "id": "15962651",
   "metadata": {},
   "source": [
    "### 5.1. Digit 1 vs. Digit 3"
   ]
  },
  {
   "cell_type": "code",
   "execution_count": 25,
   "id": "fa9ce12d",
   "metadata": {},
   "outputs": [],
   "source": [
    "digit1 = 1\n",
    "digit2 = 3\n",
    "\n",
    "indexes_train_set = (train_y==digit1) | (train_y==digit2)\n",
    "\n",
    "trainX = train_X_reshaped[indexes_train_set]\n",
    "s = max(np.linalg.norm(trainX, axis=1))\n",
    "trainX = trainX/s\n",
    "\n",
    "trainY = train_y[indexes_train_set]"
   ]
  },
  {
   "cell_type": "markdown",
   "id": "515df6a5",
   "metadata": {},
   "source": [
    "### Global Parameters"
   ]
  },
  {
   "cell_type": "markdown",
   "id": "f075372e",
   "metadata": {},
   "source": [
    "I set tol to be just a little greater than norm of the gradient for which the stochastic gradient converges in this case."
   ]
  },
  {
   "cell_type": "code",
   "execution_count": 26,
   "id": "23e850e7",
   "metadata": {},
   "outputs": [],
   "source": [
    "# Regularization parameter as in the paper\n",
    "lmbd = 10e-3\n",
    "# Termination test as in PS5\n",
    "tol = 0.5\n",
    "# Maximum Iterations too large to reach\n",
    "maxit = 100000"
   ]
  },
  {
   "cell_type": "markdown",
   "id": "65bb23e8",
   "metadata": {},
   "source": [
    "### Accelerated Gradient Descent"
   ]
  },
  {
   "cell_type": "markdown",
   "id": "b9b95130",
   "metadata": {},
   "source": [
    "The parameters for l and L are calculated inside the `logistic_regression_optimization`, given that we found bounds for these values in this specific problem in PS5 Q3."
   ]
  },
  {
   "cell_type": "code",
   "execution_count": 27,
   "id": "20721a22",
   "metadata": {
    "scrolled": true
   },
   "outputs": [
    {
     "name": "stdout",
     "output_type": "stream",
     "text": [
      "Wall time: 1min 39s\n"
     ]
    }
   ],
   "source": [
    "%%time\n",
    "u_agd, u0_agd, iterations_agd, grad_hist_agd = gda.logistic_regression_optimization(trainX = trainX, \n",
    "                                                                    trainY = trainY, \n",
    "                                                                    lmbd = lmbd, \n",
    "                                                                    tol = tol, \n",
    "                                                                    maxit = maxit,\n",
    "                                                                    gd_algorithm = gda.accelerated_gradient_algorithm)"
   ]
  },
  {
   "cell_type": "markdown",
   "id": "2dba40eb",
   "metadata": {},
   "source": [
    "### Conjugate Gradient Descent"
   ]
  },
  {
   "cell_type": "markdown",
   "id": "020bb61b",
   "metadata": {},
   "source": [
    "#### Backtrack LS"
   ]
  },
  {
   "cell_type": "code",
   "execution_count": 28,
   "id": "e9ee10cd",
   "metadata": {},
   "outputs": [
    {
     "name": "stdout",
     "output_type": "stream",
     "text": [
      "Wall time: 1min 14s\n"
     ]
    }
   ],
   "source": [
    "%%time\n",
    "u_cgd_bt, u0_cgd_bt, iterations_cgd_bt, grad_hist_bt = gda.logistic_regression_optimization(trainX = trainX, \n",
    "                                                                       trainY = trainY, \n",
    "                                                                       lmbd = lmbd, \n",
    "                                                                       tol = tol, \n",
    "                                                                       maxit = maxit,\n",
    "                                                                       gd_algorithm = gda.conjugate_gradient_algorithm,\n",
    "                                                                       line_search = gda.backtrack_line_search)"
   ]
  },
  {
   "cell_type": "markdown",
   "id": "d611f1cf",
   "metadata": {},
   "source": [
    "#### Armijo LS"
   ]
  },
  {
   "cell_type": "code",
   "execution_count": 29,
   "id": "83f81a5f",
   "metadata": {},
   "outputs": [
    {
     "name": "stdout",
     "output_type": "stream",
     "text": [
      "Wall time: 49.7 s\n"
     ]
    }
   ],
   "source": [
    "%%time\n",
    "u_cgd_ar, u0_cgd_ar, iterations_cgd_ar, grad_hist_ar = gda.logistic_regression_optimization(trainX = trainX, \n",
    "                                                                     trainY = trainY, \n",
    "                                                                     lmbd = lmbd, \n",
    "                                                                     tol = tol, \n",
    "                                                                     maxit = maxit,\n",
    "                                                                     gd_algorithm = gda.conjugate_gradient_algorithm,\n",
    "                                                                     line_search = gda.armijo_line_search)"
   ]
  },
  {
   "cell_type": "markdown",
   "id": "ce5e1071",
   "metadata": {},
   "source": [
    "### Stochastic Gradient Descent"
   ]
  },
  {
   "cell_type": "markdown",
   "id": "7569772c",
   "metadata": {},
   "source": [
    "#### Constant Stepsize"
   ]
  },
  {
   "cell_type": "code",
   "execution_count": 96,
   "id": "ccb76f05",
   "metadata": {
    "scrolled": true
   },
   "outputs": [
    {
     "name": "stdout",
     "output_type": "stream",
     "text": [
      "Wall time: 9.52 s\n"
     ]
    }
   ],
   "source": [
    "%%time\n",
    "u_sgd_eta, u0_sgd_eta, iterations_sgd_eta, grad_hist_sgd_eta = gda.logistic_regression_optimization(trainX = trainX, \n",
    "                                                                     trainY = trainY, \n",
    "                                                                     lmbd = lmbd, \n",
    "                                                                     tol = tol, \n",
    "                                                                     maxit = 5,\n",
    "                                                                     gd_algorithm = gda.stochastic_gradient_algorithm,\n",
    "                                                                     batch_size = 1,\n",
    "                                                                     stepsize = \"constant\")"
   ]
  },
  {
   "cell_type": "markdown",
   "id": "c5076411",
   "metadata": {},
   "source": [
    "#### Armijo LS"
   ]
  },
  {
   "cell_type": "code",
   "execution_count": 99,
   "id": "c525785d",
   "metadata": {
    "scrolled": true
   },
   "outputs": [
    {
     "name": "stdout",
     "output_type": "stream",
     "text": [
      "Wall time: 5.56 s\n"
     ]
    }
   ],
   "source": [
    "%%time\n",
    "u_sgd_ar, u0_sgd_ar, iterations_sgd_ar, grad_hist_sgd_ar = gda.logistic_regression_optimization(trainX = trainX, \n",
    "                                                                     trainY = trainY, \n",
    "                                                                     lmbd = lmbd, \n",
    "                                                                     tol = tol, \n",
    "                                                                     maxit = 5,\n",
    "                                                                     gd_algorithm = gda.stochastic_gradient_algorithm,\n",
    "                                                                     batch_size = 1,\n",
    "                                                                     stepsize = \"line_search\",\n",
    "                                                                     line_search = gda.armijo_line_search)"
   ]
  },
  {
   "cell_type": "markdown",
   "id": "55e27fb7",
   "metadata": {},
   "source": [
    "#### Mini-Batch GD"
   ]
  },
  {
   "cell_type": "code",
   "execution_count": 100,
   "id": "7785bd55",
   "metadata": {
    "scrolled": true
   },
   "outputs": [
    {
     "name": "stdout",
     "output_type": "stream",
     "text": [
      "The algorithm reached the maximum number of iterations: 5\n",
      "Wall time: 2.11 s\n"
     ]
    }
   ],
   "source": [
    "%%time\n",
    "u_mbgd_ar, u0_mbgd_ar, iterations_mbgd_ar, grad_hist_mbgd_ar = gda.logistic_regression_optimization(trainX = trainX, \n",
    "                                                                     trainY = trainY, \n",
    "                                                                     lmbd = lmbd, \n",
    "                                                                     tol = 0.1, \n",
    "                                                                     maxit = 5,\n",
    "                                                                     gd_algorithm = gda.stochastic_gradient_algorithm,\n",
    "                                                                     batch_size = 100,\n",
    "                                                                     stepsize = \"line_search\",\n",
    "                                                                     line_search=gda.armijo_line_search)"
   ]
  },
  {
   "cell_type": "markdown",
   "id": "f97e754b",
   "metadata": {
    "scrolled": true
   },
   "source": [
    "### Testing"
   ]
  },
  {
   "cell_type": "code",
   "execution_count": 101,
   "id": "e1c4a5dc",
   "metadata": {
    "scrolled": true
   },
   "outputs": [],
   "source": [
    "indexes_test_set = (test_y==digit1) | (test_y==digit2)\n",
    "\n",
    "testX = test_X_reshaped[indexes_test_set]\n",
    "testX = testX/s\n",
    "\n",
    "testY = test_y[indexes_test_set]\n",
    "\n",
    "# Calculate percent wrong for each method\n",
    "percent_wrong_cgd_bt, predictions = gda.score_logistic(testX, testY, u_cgd_bt, u0_cgd_bt, digit1=digit1, digit2=digit2)\n",
    "percent_wrong_agd, predictions = gda.score_logistic(testX, testY, u_agd, u0_agd, digit1=digit1, digit2=digit2)\n",
    "percent_wrong_cgd_ar, predictions = gda.score_logistic(testX, testY, u_cgd_ar, u0_cgd_ar, digit1=digit1, digit2=digit2)\n",
    "percent_wrong_sgd_eta, predictions = gda.score_logistic(testX, testY, u_sgd_eta, u0_sgd_eta, digit1=digit1, digit2=digit2)\n",
    "percent_wrong_sgd_ar, predictions = gda.score_logistic(testX, testY, u_sgd_ar, u0_sgd_ar, digit1=digit1, digit2=digit2)\n",
    "percent_wrong_mbgd_ar, predictions = gda.score_logistic(testX, testY, u_mbgd_ar, u0_mbgd_ar, digit1=digit1, digit2=digit2)"
   ]
  },
  {
   "cell_type": "markdown",
   "id": "0db408bb",
   "metadata": {},
   "source": [
    "### Comparison"
   ]
  },
  {
   "cell_type": "code",
   "execution_count": 102,
   "id": "6302a568",
   "metadata": {},
   "outputs": [],
   "source": [
    "times = [178, 120, 83, 30, 10, 5]\n",
    "\n",
    "iterations = [iterations_agd, iterations_cgd_bt, \n",
    "              iterations_cgd_ar, iterations_sgd_eta, \n",
    "              iterations_sgd_ar, iterations_mbgd_ar]\n",
    "\n",
    "percent_wrongs = [percent_wrong_agd, percent_wrong_cgd_bt, \n",
    "                  percent_wrong_cgd_ar, percent_wrong_sgd_eta, \n",
    "                  percent_wrong_sgd_ar, percent_wrong_mbgd_ar]\n",
    "\n",
    "grad_hists = [grad_hist_agd, grad_hist_bt, \n",
    "              grad_hist_ar, grad_hist_sgd_eta,\n",
    "              grad_hist_sgd_ar, grad_hist_mbgd_ar]\n",
    "\n",
    "summary_table = pd.DataFrame({\"Time (seconds)\": times, \n",
    "                              \"Iterations\": iterations, \n",
    "                              \"Percent Wrong\": percent_wrongs}, \n",
    "                             index=[\"AGD\", \"CGD Backtrack\", \n",
    "                                    \"CGD Armijo\", \n",
    "                                    \"SGD Constant Stepsize\", \n",
    "                                    \"SGD Armijo\", \"Mini-Batch GD\"])"
   ]
  },
  {
   "cell_type": "markdown",
   "id": "7513b6dd",
   "metadata": {},
   "source": [
    "### Time"
   ]
  },
  {
   "cell_type": "code",
   "execution_count": 103,
   "id": "2b2f9c5e",
   "metadata": {},
   "outputs": [
    {
     "data": {
      "image/png": "[encoded data removed]",
      "text/plain": [
       "<Figure size 720x432 with 1 Axes>"
      ]
     },
     "metadata": {
      "needs_background": "light"
     },
     "output_type": "display_data"
    }
   ],
   "source": [
    "summary_table.plot(kind='bar',\n",
    "                   y=['Time (seconds)'], \n",
    "                   figsize=(10, 6));"
   ]
  },
  {
   "cell_type": "markdown",
   "id": "3b00d4b9",
   "metadata": {},
   "source": [
    "### Iterations"
   ]
  },
  {
   "cell_type": "code",
   "execution_count": 104,
   "id": "a11c6eb2",
   "metadata": {},
   "outputs": [
    {
     "data": {
      "image/png": "[encoded data removed]",
      "text/plain": [
       "<Figure size 720x432 with 1 Axes>"
      ]
     },
     "metadata": {
      "needs_background": "light"
     },
     "output_type": "display_data"
    }
   ],
   "source": [
    "summary_table.plot(kind='bar',\n",
    "                   y=['Iterations'], \n",
    "                   color = \"green\",\n",
    "                   figsize=(10, 6));"
   ]
  },
  {
   "cell_type": "markdown",
   "id": "5c8d3a13",
   "metadata": {},
   "source": [
    "### Percent Wrong"
   ]
  },
  {
   "cell_type": "code",
   "execution_count": 105,
   "id": "03d1049c",
   "metadata": {
    "scrolled": false
   },
   "outputs": [
    {
     "data": {
      "image/png": "[encoded data removed]",
      "text/plain": [
       "<Figure size 720x432 with 1 Axes>"
      ]
     },
     "metadata": {
      "needs_background": "light"
     },
     "output_type": "display_data"
    }
   ],
   "source": [
    "summary_table.plot(kind='bar',\n",
    "                   y=['Percent Wrong'], \n",
    "                   color = \"orange\",\n",
    "                   figsize=(10, 6));"
   ]
  },
  {
   "cell_type": "markdown",
   "id": "6a1abeab",
   "metadata": {},
   "source": [
    "### Convergence"
   ]
  },
  {
   "cell_type": "markdown",
   "id": "a527ea7d",
   "metadata": {},
   "source": [
    "Plot Norm of the Gradient versus time in seconds for all the algorithms"
   ]
  },
  {
   "cell_type": "code",
   "execution_count": 106,
   "id": "ac8209a5",
   "metadata": {},
   "outputs": [],
   "source": [
    "convergence_df = pd.DataFrame(0, columns = np.linspace(0, 200, 201), index=[\"AGD\", \"CGD Backtrack\", \n",
    "                                                                            \"CGD Armijo\", \n",
    "                                                                             \"SGD Constant Stepsize\", \n",
    "                                                                             \"SGD Armijo\", \"Mini-Batch GD\"])\n",
    "for i in range(len(times)):\n",
    "    time = times[i]  \n",
    "    grad_hist = grad_hists[i]\n",
    "    for j in range(len(convergence_df.columns)):\n",
    "        try:\n",
    "            convergence_df.iloc[i,j] = grad_hist[int(np.floor((j)*len(grad_hist)/time))]\n",
    "        except:\n",
    "            convergence_df.iloc[i,j] = convergence_df.iloc[i,j-1]"
   ]
  },
  {
   "cell_type": "code",
   "execution_count": 107,
   "id": "850f724e",
   "metadata": {
    "scrolled": false
   },
   "outputs": [
    {
     "data": {
      "image/png": "[encoded data removed]",
      "text/plain": [
       "<Figure size 1008x576 with 1 Axes>"
      ]
     },
     "metadata": {
      "needs_background": "light"
     },
     "output_type": "display_data"
    }
   ],
   "source": [
    "convergence_df.T.plot(kind='line', \n",
    "                      figsize=(14, 8), \n",
    "                      ylim = (0,100));"
   ]
  },
  {
   "cell_type": "markdown",
   "id": "45638d6a",
   "metadata": {},
   "source": [
    "## 6. Conclusions"
   ]
  },
  {
   "cell_type": "markdown",
   "id": "ad569d60",
   "metadata": {},
   "source": [
    "With this analysis we confirmed that the Stochastic Gradient Descent algorithm performs well in large datasets in terms of time to convergence, and number of iterations, outperforming the other gradient descent methods, such as AGD and CGD, in regards to these metrics. Having said that, a complementary analysis to this study should be made regarding the stepsize in order for these algorithms to achieve the lowest levels of tolerance (achieve lower norm of the gradient)."
   ]
  }
 ],
 "metadata": {
  "kernelspec": {
   "display_name": "Python 3 (ipykernel)",
   "language": "python",
   "name": "python3"
  },
  "language_info": {
   "codemirror_mode": {
    "name": "ipython",
    "version": 3
   },
   "file_extension": ".py",
   "mimetype": "text/x-python",
   "name": "python",
   "nbconvert_exporter": "python",
   "pygments_lexer": "ipython3",
   "version": "3.9.7"
  }
 },
 "nbformat": 4,
 "nbformat_minor": 5
}
